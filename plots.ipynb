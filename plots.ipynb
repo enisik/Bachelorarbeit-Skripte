{
 "cells": [
  {
   "cell_type": "code",
   "execution_count": null,
   "metadata": {},
   "outputs": [],
   "source": [
    "# pip install ipympl\n",
    "%matplotlib widget\n",
    "%load_ext autoreload"
   ]
  },
  {
   "cell_type": "code",
   "execution_count": null,
   "metadata": {},
   "outputs": [],
   "source": [
    "%autoreload\n",
    "from logparser import get_events_from, LogData\n",
    "from plotter import plot_gc, plot_membalancer_heap_rule, plot_full_gc_info\n",
    "from GarbageCollector import MemBalancer\n",
    "import numpy as np\n",
    "import matplotlib.pyplot as plt"
   ]
  },
  {
   "cell_type": "code",
   "execution_count": null,
   "metadata": {},
   "outputs": [],
   "source": [
    "gcbench_events = get_events_from(\"logs/gcbench\")\n",
    "plot_gc(gcbench_events, \"gc-bench\", fignum=1)\n",
    "mem_balancer = MemBalancer(TUNING=1e-8, minimum_extra_heap=2*1024**2)\n",
    "mem_balancer.L_smoothed = 1024\n",
    "mem_balancer.s_m_smoothed = 2 * 1024**2\n",
    "mem_balancer.s_t_smoothed = 1/2024\n",
    "plot_membalancer_heap_rule(gcbench_events, mem_balancer,fignum=1)\n",
    "plt.xlim(left=0)\n",
    "plt.show()"
   ]
  },
  {
   "cell_type": "code",
   "execution_count": null,
   "metadata": {},
   "outputs": [],
   "source": [
    "gcbench_data = LogData(\"logs/gcbench\")\n",
    "plot_full_gc_info(gcbench_data, \"gcbench\", 5)"
   ]
  },
  {
   "cell_type": "code",
   "execution_count": null,
   "metadata": {},
   "outputs": [],
   "source": [
    "gctranslate_events = get_events_from(\"logs/gctranslate-old\")\n",
    "plot_gc(gctranslate_events, \"gc-translate\", fignum=2)\n",
    "mem_balancer = MemBalancer(TUNING=1e-8, minimum_extra_heap=2*1024**2)\n",
    "mem_balancer.L_smoothed = 1024\n",
    "mem_balancer.s_m_smoothed = 2 * 1024**2\n",
    "mem_balancer.s_t_smoothed = 1/2024\n",
    "plot_membalancer_heap_rule(gctranslate_events, mem_balancer, fignum=2)\n",
    "plt.xlim(left=0)\n",
    "plt.show()"
   ]
  },
  {
   "cell_type": "code",
   "execution_count": null,
   "metadata": {},
   "outputs": [],
   "source": [
    "import matplotlib.pyplot as plt\n",
    "import numpy as np\n",
    "\n",
    "from matplotlib.widgets import RadioButtons\n",
    "\n",
    "t = np.arange(0.0, 2.0, 0.01)\n",
    "s0 = np.sin(2*np.pi*t)\n",
    "s1 = np.sin(4*np.pi*t)\n",
    "s2 = np.sin(8*np.pi*t)\n",
    "\n",
    "fig, ax = plt.subplot_mosaic(\n",
    "    [\n",
    "        ['main', 'freq'],\n",
    "        ['main', 'color'],\n",
    "        ['main', 'linestyle'],\n",
    "    ],\n",
    "    width_ratios=[5, 1],\n",
    "    layout='constrained',\n",
    ")\n",
    "l, = ax['main'].plot(t, s0, lw=2, color='red')\n",
    "\n",
    "radio_background = 'lightgoldenrodyellow'\n",
    "\n",
    "ax['freq'].set_facecolor(radio_background)\n",
    "radio = RadioButtons(ax['freq'], ('1 Hz', '2 Hz', '4 Hz'),\n",
    "                     label_props={'color': 'cmy', 'fontsize': [12, 14, 16]},\n",
    "                     radio_props={'s': [16, 32, 64]})\n",
    "\n",
    "\n",
    "def hzfunc(label):\n",
    "    hzdict = {'1 Hz': s0, '2 Hz': s1, '4 Hz': s2}\n",
    "    ydata = hzdict[label]\n",
    "    l.set_ydata(ydata)\n",
    "    fig.canvas.draw()\n",
    "\n",
    "\n",
    "radio.on_clicked(hzfunc)\n",
    "\n",
    "ax['color'].set_facecolor(radio_background)\n",
    "radio2 = RadioButtons(\n",
    "    ax['color'], ('red', 'blue', 'green'),\n",
    "    label_props={'color': ['red', 'blue', 'green']},\n",
    "    radio_props={\n",
    "        'facecolor': ['red', 'blue', 'green'],\n",
    "        'edgecolor': ['darkred', 'darkblue', 'darkgreen'],\n",
    "    })\n",
    "\n",
    "\n",
    "def colorfunc(label):\n",
    "    l.set_color(label)\n",
    "    fig.canvas.draw()\n",
    "\n",
    "\n",
    "radio2.on_clicked(colorfunc)\n",
    "\n",
    "ax['linestyle'].set_facecolor(radio_background)\n",
    "radio3 = RadioButtons(ax['linestyle'], ('-', '--', '-.', ':'))\n",
    "\n",
    "\n",
    "def stylefunc(label):\n",
    "    l.set_linestyle(label)\n",
    "    fig.canvas.draw()\n",
    "\n",
    "\n",
    "radio3.on_clicked(stylefunc)\n",
    "\n",
    "plt.show()"
   ]
  }
 ],
 "metadata": {
  "kernelspec": {
   "display_name": "Python 3 (ipykernel)",
   "language": "python",
   "name": "python3"
  },
  "language_info": {
   "codemirror_mode": {
    "name": "ipython",
    "version": 3
   },
   "file_extension": ".py",
   "mimetype": "text/x-python",
   "name": "python",
   "nbconvert_exporter": "python",
   "pygments_lexer": "ipython3",
   "version": "3.12.4"
  }
 },
 "nbformat": 4,
 "nbformat_minor": 4
}
